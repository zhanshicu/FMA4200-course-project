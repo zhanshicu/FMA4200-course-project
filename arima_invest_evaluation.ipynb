{
 "cells": [
  {
   "cell_type": "code",
   "execution_count": 7,
   "id": "65bc5c86",
   "metadata": {},
   "outputs": [],
   "source": [
    "import pandas as pd\n",
    "import matplotlib.pyplot as plt\n",
    "from statsmodels.tsa.arima.model import ARIMA\n",
    "from sklearn.metrics import mean_squared_error\n",
    "import numpy as np\n",
    "from sklearn.ensemble import RandomForestClassifier\n",
    "from sklearn.metrics import accuracy_score\n",
    "from pmdarima import auto_arima\n",
    "\n",
    "# 读取数据\n",
    "data = pd.read_csv(\"sorted_final_transactions_dataset.csv\")\n",
    "data['date_BUY_fix'] = pd.to_datetime(data['date_BUY_fix'])\n",
    "data.sort_values(by='date_BUY_fix', inplace=True)\n",
    "\n",
    "# 按公司分组\n",
    "grouped_data = data.groupby('company')\n",
    "\n",
    "# 预测时间点\n",
    "forecast_periods = [90, 180, 270, 365]  # 3个月，6个月，9个月，12个月"
   ]
  },
  {
   "cell_type": "code",
   "execution_count": 2,
   "id": "addce2f3",
   "metadata": {},
   "outputs": [],
   "source": [
    "inflation_rates = {\n",
    "        2013: 1.41,\n",
    "        2014: -0.15,\n",
    "        2015: -0.5,\n",
    "        2016: -0.2,\n",
    "        2017: 0.96,\n",
    "        2018: 0.68\n",
    "}"
   ]
  },
  {
   "cell_type": "code",
   "execution_count": 3,
   "id": "cd6b1c9a",
   "metadata": {},
   "outputs": [],
   "source": [
    "def investment_evaluation(company, buy_date, holding_time, data):\n",
    "    buy_date = pd.to_datetime(buy_date)\n",
    "    sell_date = buy_date + pd.DateOffset(days=holding_time)\n",
    "    \n",
    "    company_data = data[(data['company'] == company) & (data['date_BUY_fix'] < buy_date)]\n",
    "    company_data = company_data.drop_duplicates(subset=['date_BUY_fix'])\n",
    "    company_data.sort_values(by='date_BUY_fix', inplace=True)\n",
    "\n",
    "    model = auto_arima(company_data['price_BUY'], seasonal=False, trace=True)\n",
    "    fitted_model = model.fit(company_data['price_BUY'])\n",
    "    forecast = fitted_model.predict(n_periods=holding_time).iloc[-1]\n",
    "    buy_price = company_data.iloc[-1]['price_BUY']\n",
    "    nominal_return = (forecast - buy_price) / buy_price * 100\n",
    "\n",
    "    # Calculate real return adjusting for inflation\n",
    "    buy_year = buy_date.year\n",
    "    sell_year = sell_date.year\n",
    "    \n",
    "    # Calculate average inflation from buy year to sell year\n",
    "    if buy_year != sell_year:\n",
    "        avg_inflation = np.mean([inflation_rates[year] for year in range(buy_year, sell_year + 1) if year in inflation_rates])\n",
    "    else:\n",
    "        avg_inflation = inflation_rates.get(buy_year, 0)  # Default to 0 inflation if no data available\n",
    "    \n",
    "    real_return = nominal_return - avg_inflation\n",
    "\n",
    "    # Determine if the investment is good\n",
    "    is_good = \"Good\" if nominal_return > 0 else \"Bad\"\n",
    "\n",
    "    return {\n",
    "        \"Company\": company,\n",
    "        \"Buy Date\": buy_date.strftime('%Y-%m-%d'),\n",
    "        \"Forecasted Price\": forecast,\n",
    "        \"Nominal Return (%)\": nominal_return,\n",
    "        \"Inflation Adjusted Return (%)\": real_return,\n",
    "        \"Investment Evaluation\": is_good\n",
    "    }\n",
    "\n"
   ]
  },
  {
   "cell_type": "code",
   "execution_count": null,
   "id": "7386402c",
   "metadata": {},
   "outputs": [],
   "source": [
    "import numpy as np\n",
    "from tensorflow.keras.models import Sequential\n",
    "from tensorflow.keras.layers import LSTM, Dense\n",
    "from sklearn.preprocessing import MinMaxScaler\n",
    "\n",
    "# Function to convert series to supervised learning format\n",
    "def series_to_supervised(data, n_in=1, n_out=1, dropnan=True):\n",
    "    n_vars = 1 if type(data) is list else data.shape[1]\n",
    "    df = pd.DataFrame(data)\n",
    "    cols, names = list(), list()\n",
    "    # Input sequence (t-n, ... t-1)\n",
    "    for i in range(n_in, 0, -1):\n",
    "        cols.append(df.shift(i))\n",
    "        names += [('var%d(t-%d)' % (j+1, i)) for j in range(n_vars)]\n",
    "    # Forecast sequence (t, t+1, ... t+n)\n",
    "    for i in range(0, n_out):\n",
    "        cols.append(df.shift(-i))\n",
    "        if i == 0:\n",
    "            names += [('var%d(t)' % (j+1)) for j in range(n_vars)]\n",
    "        else:\n",
    "            names += [('var%d(t+%d)' % (j+1, i)) for j in range(n_vars)]\n",
    "    # Put it all together\n",
    "    agg = pd.concat(cols, axis=1)\n",
    "    agg.columns = names\n",
    "    # Drop rows with NaN values\n",
    "    if dropnan:\n",
    "        agg.dropna(inplace=True)\n",
    "    return agg\n",
    "\n",
    "for company, company_data in grouped_data:\n",
    "    company_data = company_data.drop_duplicates(subset=['date_BUY_fix'])\n",
    "\n",
    "    scaler = MinMaxScaler(feature_range=(0, 1))\n",
    "    scaled = scaler.fit_transform(company_data[['price_BUY']])\n",
    "\n",
    "    reframed = series_to_supervised(scaled, 1, 1)\n",
    "\n",
    "    # Split into train and test sets based on the cutoff date\n",
    "    train_data = company_data[company_data['date_BUY_fix'] < '2017-01-01']\n",
    "    test_data = company_data[company_data['date_BUY_fix'] >= '2017-01-01']\n",
    "\n",
    "    if len(train_data) == 0 or len(test_data) == 0:\n",
    "        print(f\"Skipping company {company} due to insufficient data.\")\n",
    "        continue\n",
    "\n",
    "    train_scaled = scaler.transform(train_data[['price_BUY']])\n",
    "    test_scaled = scaler.transform(test_data[['price_BUY']])\n",
    "    train_reframed = series_to_supervised(train_scaled, 1, 1)\n",
    "    test_reframed = series_to_supervised(test_scaled, 1, 1)\n",
    "\n",
    "    train = train_reframed.values\n",
    "    test = test_reframed.values\n",
    "    train_X, train_y = train[:, :-1], train[:, -1]\n",
    "    test_X, test_y = test[:, :-1], test[:, -1]\n",
    "\n",
    "    # Check if there is enough data after reframing\n",
    "    if len(train_X) == 0 or len(test_X) == 0:\n",
    "        print(f\"Skipping company {company} due to insufficient data after reframing.\")\n",
    "        continue\n",
    "\n",
    "    train_X = train_X.reshape((train_X.shape[0], 1, train_X.shape[1]))\n",
    "    test_X = test_X.reshape((test_X.shape[0], 1, test_X.shape[1]))\n",
    "\n",
    "    # Design LSTM network\n",
    "    model = Sequential()\n",
    "    model.add(LSTM(50, input_shape=(train_X.shape[1], train_X.shape[2])))\n",
    "    model.add(Dense(1))\n",
    "    model.compile(loss='mae', optimizer='adam')\n",
    "\n",
    "    # Fit network\n",
    "    history = model.fit(train_X, train_y, epochs=20, batch_size=72, validation_data=(test_X, test_y), verbose=2, shuffle=False)\n",
    "\n",
    "    yhat = model.predict(test_X)\n",
    "    test_X = test_X.reshape((test_X.shape[0], test_X.shape[2]))\n",
    "    inv_yhat = np.concatenate((yhat, test_X[:, 1:]), axis=1)\n",
    "    inv_yhat = scaler.inverse_transform(inv_yhat)\n",
    "    inv_yhat = inv_yhat[:,0]\n",
    "\n",
    "    from sklearn.metrics import mean_squared_error\n",
    "    rmse = np.sqrt(mean_squared_error(test_y, yhat))\n",
    "    print(f'RMSE for company {company}: {rmse:.2f}')\n",
    "\n",
    "    actual_prices = test_data['price_BUY']\n",
    "\n",
    "    test_dates_adjusted = test_data['date_BUY_fix'].iloc[1:].reset_index(drop=True)  # Drop the first date to align with predictions\n",
    "    actual_prices = test_data['price_BUY'].iloc[1:].reset_index(drop=True)  # Drop the first date to align with predictions\n",
    "\n",
    "    # plt.figure(figsize=(10, 6))\n",
    "    plt.plot(train_data['date_BUY_fix'], train_data['price_BUY'], label='Train data')\n",
    "    plt.plot(test_dates_adjusted, actual_prices, label='Actual prices')\n",
    "    plt.plot(test_dates_adjusted, inv_yhat, label='Predicted prices')\n",
    "    plt.title(f\"Stock Prices Prediction for Company {company}\")\n",
    "    plt.xlabel(\"Date\")\n",
    "    plt.ylabel(\"Price\")\n",
    "    plt.legend()\n",
    "    plt.show()"
   ]
  },
  {
   "cell_type": "code",
   "execution_count": 24,
   "id": "532270a0",
   "metadata": {},
   "outputs": [
    {
     "name": "stdout",
     "output_type": "stream",
     "text": [
      "Performing stepwise search to minimize aic\n",
      " ARIMA(2,1,2)(0,0,0)[0] intercept   : AIC=inf, Time=0.45 sec\n",
      " ARIMA(0,1,0)(0,0,0)[0] intercept   : AIC=756.222, Time=0.04 sec\n",
      " ARIMA(1,1,0)(0,0,0)[0] intercept   : AIC=758.148, Time=0.04 sec\n",
      " ARIMA(0,1,1)(0,0,0)[0] intercept   : AIC=758.133, Time=0.05 sec\n",
      " ARIMA(0,1,0)(0,0,0)[0]             : AIC=756.651, Time=0.02 sec\n"
     ]
    },
    {
     "name": "stderr",
     "output_type": "stream",
     "text": [
      "/Users/liuyichen/opt/anaconda3/lib/python3.9/site-packages/statsmodels/tsa/statespace/sarimax.py:1899: RuntimeWarning: invalid value encountered in reciprocal\n",
      "  return np.roots(self.polynomial_reduced_ar)**-1\n",
      "/Users/liuyichen/opt/anaconda3/lib/python3.9/site-packages/statsmodels/tsa/statespace/sarimax.py:1906: RuntimeWarning: invalid value encountered in reciprocal\n",
      "  return np.roots(self.polynomial_reduced_ma)**-1\n"
     ]
    },
    {
     "name": "stdout",
     "output_type": "stream",
     "text": [
      " ARIMA(1,1,1)(0,0,0)[0] intercept   : AIC=inf, Time=0.37 sec\n",
      "\n",
      "Best model:  ARIMA(0,1,0)(0,0,0)[0] intercept\n",
      "Total fit time: 0.963 seconds\n",
      "{'Company': 17, 'Buy Date': '2015-05-22', 'Forecasted Price': 52.27695344187996, 'Nominal Return (%)': 2.84373124999517, 'Inflation Adjusted Return (%)': 3.34373124999517, 'Investment Evaluation': 'Good'}\n"
     ]
    },
    {
     "name": "stderr",
     "output_type": "stream",
     "text": [
      "/Users/liuyichen/opt/anaconda3/lib/python3.9/site-packages/statsmodels/tsa/statespace/sarimax.py:1899: RuntimeWarning: invalid value encountered in reciprocal\n",
      "  return np.roots(self.polynomial_reduced_ar)**-1\n",
      "/Users/liuyichen/opt/anaconda3/lib/python3.9/site-packages/statsmodels/tsa/statespace/sarimax.py:1906: RuntimeWarning: invalid value encountered in reciprocal\n",
      "  return np.roots(self.polynomial_reduced_ma)**-1\n",
      "/Users/liuyichen/opt/anaconda3/lib/python3.9/site-packages/statsmodels/tsa/base/tsa_model.py:834: ValueWarning: No supported index is available. Prediction results will be given with an integer index beginning at `start`.\n",
      "  return get_prediction_index(\n"
     ]
    }
   ],
   "source": [
    "result = investment_evaluation(17, \"2015-5-22\", 30, data)\n",
    "print(result)"
   ]
  },
  {
   "cell_type": "code",
   "execution_count": 26,
   "id": "0263881b",
   "metadata": {},
   "outputs": [
    {
     "name": "stdout",
     "output_type": "stream",
     "text": [
      "Performing stepwise search to minimize aic\n",
      " ARIMA(2,1,2)(0,0,0)[0] intercept   : AIC=367.846, Time=0.25 sec\n",
      " ARIMA(0,1,0)(0,0,0)[0] intercept   : AIC=371.452, Time=0.02 sec\n",
      " ARIMA(1,1,0)(0,0,0)[0] intercept   : AIC=370.314, Time=0.03 sec\n",
      " ARIMA(0,1,1)(0,0,0)[0] intercept   : AIC=370.129, Time=0.03 sec\n",
      " ARIMA(0,1,0)(0,0,0)[0]             : AIC=371.124, Time=0.01 sec\n",
      " ARIMA(1,1,2)(0,0,0)[0] intercept   : AIC=367.178, Time=0.09 sec\n"
     ]
    },
    {
     "name": "stderr",
     "output_type": "stream",
     "text": [
      "/Users/liuyichen/opt/anaconda3/lib/python3.9/site-packages/statsmodels/tsa/statespace/sarimax.py:1899: RuntimeWarning: invalid value encountered in reciprocal\n",
      "  return np.roots(self.polynomial_reduced_ar)**-1\n",
      "/Users/liuyichen/opt/anaconda3/lib/python3.9/site-packages/statsmodels/tsa/statespace/sarimax.py:1906: RuntimeWarning: invalid value encountered in reciprocal\n",
      "  return np.roots(self.polynomial_reduced_ma)**-1\n",
      "/Users/liuyichen/opt/anaconda3/lib/python3.9/site-packages/statsmodels/tsa/statespace/sarimax.py:1899: RuntimeWarning: invalid value encountered in reciprocal\n",
      "  return np.roots(self.polynomial_reduced_ar)**-1\n"
     ]
    },
    {
     "name": "stdout",
     "output_type": "stream",
     "text": [
      " ARIMA(0,1,2)(0,0,0)[0] intercept   : AIC=372.017, Time=0.05 sec\n",
      " ARIMA(1,1,1)(0,0,0)[0] intercept   : AIC=371.443, Time=0.11 sec\n"
     ]
    },
    {
     "name": "stderr",
     "output_type": "stream",
     "text": [
      "/Users/liuyichen/opt/anaconda3/lib/python3.9/site-packages/statsmodels/tsa/statespace/sarimax.py:1899: RuntimeWarning: invalid value encountered in reciprocal\n",
      "  return np.roots(self.polynomial_reduced_ar)**-1\n",
      "/Users/liuyichen/opt/anaconda3/lib/python3.9/site-packages/statsmodels/tsa/statespace/sarimax.py:1906: RuntimeWarning: invalid value encountered in reciprocal\n",
      "  return np.roots(self.polynomial_reduced_ma)**-1\n",
      "/Users/liuyichen/opt/anaconda3/lib/python3.9/site-packages/statsmodels/tsa/statespace/sarimax.py:1899: RuntimeWarning: invalid value encountered in reciprocal\n",
      "  return np.roots(self.polynomial_reduced_ar)**-1\n"
     ]
    },
    {
     "name": "stdout",
     "output_type": "stream",
     "text": [
      " ARIMA(1,1,3)(0,0,0)[0] intercept   : AIC=368.219, Time=0.12 sec\n",
      " ARIMA(0,1,3)(0,0,0)[0] intercept   : AIC=373.837, Time=0.07 sec\n",
      " ARIMA(2,1,1)(0,0,0)[0] intercept   : AIC=366.335, Time=0.13 sec\n"
     ]
    },
    {
     "name": "stderr",
     "output_type": "stream",
     "text": [
      "/Users/liuyichen/opt/anaconda3/lib/python3.9/site-packages/statsmodels/tsa/statespace/sarimax.py:1906: RuntimeWarning: invalid value encountered in reciprocal\n",
      "  return np.roots(self.polynomial_reduced_ma)**-1\n",
      "/Users/liuyichen/opt/anaconda3/lib/python3.9/site-packages/statsmodels/tsa/statespace/sarimax.py:1899: RuntimeWarning: invalid value encountered in reciprocal\n",
      "  return np.roots(self.polynomial_reduced_ar)**-1\n",
      "/Users/liuyichen/opt/anaconda3/lib/python3.9/site-packages/statsmodels/tsa/statespace/sarimax.py:1906: RuntimeWarning: invalid value encountered in reciprocal\n",
      "  return np.roots(self.polynomial_reduced_ma)**-1\n"
     ]
    },
    {
     "name": "stdout",
     "output_type": "stream",
     "text": [
      " ARIMA(2,1,0)(0,0,0)[0] intercept   : AIC=371.942, Time=0.08 sec\n",
      " ARIMA(3,1,1)(0,0,0)[0] intercept   : AIC=367.786, Time=0.11 sec\n",
      " ARIMA(3,1,0)(0,0,0)[0] intercept   : AIC=372.860, Time=0.05 sec\n"
     ]
    },
    {
     "name": "stderr",
     "output_type": "stream",
     "text": [
      "/Users/liuyichen/opt/anaconda3/lib/python3.9/site-packages/statsmodels/tsa/statespace/sarimax.py:1899: RuntimeWarning: invalid value encountered in reciprocal\n",
      "  return np.roots(self.polynomial_reduced_ar)**-1\n",
      "/Users/liuyichen/opt/anaconda3/lib/python3.9/site-packages/statsmodels/tsa/statespace/sarimax.py:1906: RuntimeWarning: invalid value encountered in reciprocal\n",
      "  return np.roots(self.polynomial_reduced_ma)**-1\n"
     ]
    },
    {
     "name": "stdout",
     "output_type": "stream",
     "text": [
      " ARIMA(3,1,2)(0,0,0)[0] intercept   : AIC=369.959, Time=0.15 sec\n",
      " ARIMA(2,1,1)(0,0,0)[0]             : AIC=366.652, Time=0.08 sec\n",
      "\n",
      "Best model:  ARIMA(2,1,1)(0,0,0)[0] intercept\n",
      "Total fit time: 1.384 seconds\n",
      "{'Company': 21, 'Buy Date': '2014-08-22', 'Forecasted Price': 77.65613298196001, 'Nominal Return (%)': 1.9752429462702645, 'Inflation Adjusted Return (%)': 2.1252429462702644, 'Investment Evaluation': 'Good'}\n"
     ]
    },
    {
     "name": "stderr",
     "output_type": "stream",
     "text": [
      "/Users/liuyichen/opt/anaconda3/lib/python3.9/site-packages/statsmodels/tsa/base/tsa_model.py:834: ValueWarning: No supported index is available. Prediction results will be given with an integer index beginning at `start`.\n",
      "  return get_prediction_index(\n"
     ]
    }
   ],
   "source": [
    "result = investment_evaluation(21, \"2014-8-22\", 30, data)\n",
    "print(result)"
   ]
  },
  {
   "cell_type": "code",
   "execution_count": 27,
   "id": "b5aedcb7",
   "metadata": {},
   "outputs": [
    {
     "name": "stdout",
     "output_type": "stream",
     "text": [
      "Performing stepwise search to minimize aic\n",
      " ARIMA(2,1,2)(0,0,0)[0] intercept   : AIC=2267.345, Time=0.49 sec\n",
      " ARIMA(0,1,0)(0,0,0)[0] intercept   : AIC=2267.120, Time=0.08 sec\n",
      " ARIMA(1,1,0)(0,0,0)[0] intercept   : AIC=2268.263, Time=0.05 sec\n"
     ]
    },
    {
     "name": "stderr",
     "output_type": "stream",
     "text": [
      "/Users/liuyichen/opt/anaconda3/lib/python3.9/site-packages/statsmodels/tsa/statespace/sarimax.py:1899: RuntimeWarning: invalid value encountered in reciprocal\n",
      "  return np.roots(self.polynomial_reduced_ar)**-1\n",
      "/Users/liuyichen/opt/anaconda3/lib/python3.9/site-packages/statsmodels/tsa/statespace/sarimax.py:1906: RuntimeWarning: invalid value encountered in reciprocal\n",
      "  return np.roots(self.polynomial_reduced_ma)**-1\n"
     ]
    },
    {
     "name": "stdout",
     "output_type": "stream",
     "text": [
      " ARIMA(0,1,1)(0,0,0)[0] intercept   : AIC=2268.161, Time=0.08 sec\n",
      " ARIMA(0,1,0)(0,0,0)[0]             : AIC=2265.183, Time=0.02 sec\n"
     ]
    },
    {
     "name": "stderr",
     "output_type": "stream",
     "text": [
      "/Users/liuyichen/opt/anaconda3/lib/python3.9/site-packages/statsmodels/tsa/statespace/sarimax.py:1899: RuntimeWarning: invalid value encountered in reciprocal\n",
      "  return np.roots(self.polynomial_reduced_ar)**-1\n",
      "/Users/liuyichen/opt/anaconda3/lib/python3.9/site-packages/statsmodels/tsa/statespace/sarimax.py:1906: RuntimeWarning: invalid value encountered in reciprocal\n",
      "  return np.roots(self.polynomial_reduced_ma)**-1\n"
     ]
    },
    {
     "name": "stdout",
     "output_type": "stream",
     "text": [
      " ARIMA(1,1,1)(0,0,0)[0] intercept   : AIC=2264.681, Time=0.32 sec\n"
     ]
    },
    {
     "name": "stderr",
     "output_type": "stream",
     "text": [
      "/Users/liuyichen/opt/anaconda3/lib/python3.9/site-packages/statsmodels/tsa/statespace/sarimax.py:1906: RuntimeWarning: invalid value encountered in reciprocal\n",
      "  return np.roots(self.polynomial_reduced_ma)**-1\n"
     ]
    },
    {
     "name": "stdout",
     "output_type": "stream",
     "text": [
      " ARIMA(2,1,1)(0,0,0)[0] intercept   : AIC=2265.548, Time=0.28 sec\n"
     ]
    },
    {
     "name": "stderr",
     "output_type": "stream",
     "text": [
      "/Users/liuyichen/opt/anaconda3/lib/python3.9/site-packages/statsmodels/tsa/statespace/sarimax.py:1899: RuntimeWarning: invalid value encountered in reciprocal\n",
      "  return np.roots(self.polynomial_reduced_ar)**-1\n"
     ]
    },
    {
     "name": "stdout",
     "output_type": "stream",
     "text": [
      " ARIMA(1,1,2)(0,0,0)[0] intercept   : AIC=2265.597, Time=0.28 sec\n",
      " ARIMA(0,1,2)(0,0,0)[0] intercept   : AIC=2266.934, Time=0.10 sec\n",
      " ARIMA(2,1,0)(0,0,0)[0] intercept   : AIC=2267.720, Time=0.09 sec\n"
     ]
    },
    {
     "name": "stderr",
     "output_type": "stream",
     "text": [
      "/Users/liuyichen/opt/anaconda3/lib/python3.9/site-packages/statsmodels/tsa/statespace/sarimax.py:1899: RuntimeWarning: invalid value encountered in reciprocal\n",
      "  return np.roots(self.polynomial_reduced_ar)**-1\n",
      "/Users/liuyichen/opt/anaconda3/lib/python3.9/site-packages/statsmodels/tsa/statespace/sarimax.py:1906: RuntimeWarning: invalid value encountered in reciprocal\n",
      "  return np.roots(self.polynomial_reduced_ma)**-1\n",
      "/Users/liuyichen/opt/anaconda3/lib/python3.9/site-packages/statsmodels/tsa/statespace/sarimax.py:1906: RuntimeWarning: invalid value encountered in reciprocal\n",
      "  return np.roots(self.polynomial_reduced_ma)**-1\n",
      "/Users/liuyichen/opt/anaconda3/lib/python3.9/site-packages/statsmodels/tsa/statespace/sarimax.py:1899: RuntimeWarning: invalid value encountered in reciprocal\n",
      "  return np.roots(self.polynomial_reduced_ar)**-1\n"
     ]
    },
    {
     "name": "stdout",
     "output_type": "stream",
     "text": [
      " ARIMA(1,1,1)(0,0,0)[0]             : AIC=2262.784, Time=0.10 sec\n",
      " ARIMA(0,1,1)(0,0,0)[0]             : AIC=2266.229, Time=0.09 sec\n",
      " ARIMA(1,1,0)(0,0,0)[0]             : AIC=2266.331, Time=0.03 sec\n"
     ]
    },
    {
     "name": "stderr",
     "output_type": "stream",
     "text": [
      "/Users/liuyichen/opt/anaconda3/lib/python3.9/site-packages/statsmodels/tsa/statespace/sarimax.py:1906: RuntimeWarning: invalid value encountered in reciprocal\n",
      "  return np.roots(self.polynomial_reduced_ma)**-1\n",
      "/Users/liuyichen/opt/anaconda3/lib/python3.9/site-packages/statsmodels/tsa/statespace/sarimax.py:1899: RuntimeWarning: invalid value encountered in reciprocal\n",
      "  return np.roots(self.polynomial_reduced_ar)**-1\n"
     ]
    },
    {
     "name": "stdout",
     "output_type": "stream",
     "text": [
      " ARIMA(2,1,1)(0,0,0)[0]             : AIC=2263.652, Time=0.14 sec\n",
      " ARIMA(1,1,2)(0,0,0)[0]             : AIC=2263.701, Time=0.15 sec\n",
      " ARIMA(0,1,2)(0,0,0)[0]             : AIC=2265.015, Time=0.06 sec\n",
      " ARIMA(2,1,0)(0,0,0)[0]             : AIC=2265.796, Time=0.05 sec\n",
      " ARIMA(2,1,2)(0,0,0)[0]             : AIC=2265.448, Time=0.25 sec\n",
      "\n",
      "Best model:  ARIMA(1,1,1)(0,0,0)[0]          \n",
      "Total fit time: 2.666 seconds\n",
      "{'Company': 13, 'Buy Date': '2017-05-30', 'Forecasted Price': 47.08956077412071, 'Nominal Return (%)': 0.14285990520261807, 'Inflation Adjusted Return (%)': -0.8171400947973819, 'Investment Evaluation': 'Good'}\n"
     ]
    },
    {
     "name": "stderr",
     "output_type": "stream",
     "text": [
      "/Users/liuyichen/opt/anaconda3/lib/python3.9/site-packages/statsmodels/tsa/base/tsa_model.py:834: ValueWarning: No supported index is available. Prediction results will be given with an integer index beginning at `start`.\n",
      "  return get_prediction_index(\n"
     ]
    }
   ],
   "source": [
    "result = investment_evaluation(13, \"2017-5-30\", 30, data)\n",
    "print(result)"
   ]
  },
  {
   "cell_type": "code",
   "execution_count": 28,
   "id": "2ec87897",
   "metadata": {},
   "outputs": [
    {
     "name": "stdout",
     "output_type": "stream",
     "text": [
      "Performing stepwise search to minimize aic\n",
      " ARIMA(2,1,2)(0,0,0)[0] intercept   : AIC=inf, Time=0.62 sec\n",
      " ARIMA(0,1,0)(0,0,0)[0] intercept   : AIC=1749.337, Time=0.06 sec\n",
      " ARIMA(1,1,0)(0,0,0)[0] intercept   : AIC=1751.231, Time=0.05 sec\n",
      " ARIMA(0,1,1)(0,0,0)[0] intercept   : AIC=1751.220, Time=0.07 sec\n"
     ]
    },
    {
     "name": "stderr",
     "output_type": "stream",
     "text": [
      "/Users/liuyichen/opt/anaconda3/lib/python3.9/site-packages/statsmodels/tsa/statespace/sarimax.py:1899: RuntimeWarning: invalid value encountered in reciprocal\n",
      "  return np.roots(self.polynomial_reduced_ar)**-1\n",
      "/Users/liuyichen/opt/anaconda3/lib/python3.9/site-packages/statsmodels/tsa/statespace/sarimax.py:1906: RuntimeWarning: invalid value encountered in reciprocal\n",
      "  return np.roots(self.polynomial_reduced_ma)**-1\n"
     ]
    },
    {
     "name": "stdout",
     "output_type": "stream",
     "text": [
      " ARIMA(0,1,0)(0,0,0)[0]             : AIC=1749.060, Time=0.03 sec\n",
      " ARIMA(1,1,1)(0,0,0)[0] intercept   : AIC=inf, Time=0.84 sec\n",
      "\n",
      "Best model:  ARIMA(0,1,0)(0,0,0)[0]          \n",
      "Total fit time: 1.673 seconds\n",
      "{'Company': 21, 'Buy Date': '2017-01-10', 'Forecasted Price': 91.92563629, 'Nominal Return (%)': 0.0, 'Inflation Adjusted Return (%)': -0.96, 'Investment Evaluation': 'Bad'}\n"
     ]
    },
    {
     "name": "stderr",
     "output_type": "stream",
     "text": [
      "/Users/liuyichen/opt/anaconda3/lib/python3.9/site-packages/statsmodels/tsa/statespace/sarimax.py:1899: RuntimeWarning: invalid value encountered in reciprocal\n",
      "  return np.roots(self.polynomial_reduced_ar)**-1\n",
      "/Users/liuyichen/opt/anaconda3/lib/python3.9/site-packages/statsmodels/tsa/statespace/sarimax.py:1906: RuntimeWarning: invalid value encountered in reciprocal\n",
      "  return np.roots(self.polynomial_reduced_ma)**-1\n",
      "/Users/liuyichen/opt/anaconda3/lib/python3.9/site-packages/statsmodels/tsa/base/tsa_model.py:834: ValueWarning: No supported index is available. Prediction results will be given with an integer index beginning at `start`.\n",
      "  return get_prediction_index(\n"
     ]
    }
   ],
   "source": [
    "result = investment_evaluation(21, \"2017-1-10\", 30, data)\n",
    "print(result)"
   ]
  },
  {
   "cell_type": "code",
   "execution_count": 38,
   "id": "50410371",
   "metadata": {},
   "outputs": [
    {
     "name": "stdout",
     "output_type": "stream",
     "text": [
      "Performing stepwise search to minimize aic\n",
      " ARIMA(2,1,2)(0,0,0)[0] intercept   : AIC=3212.947, Time=0.31 sec\n",
      " ARIMA(0,1,0)(0,0,0)[0] intercept   : AIC=3215.984, Time=0.09 sec\n",
      " ARIMA(1,1,0)(0,0,0)[0] intercept   : AIC=3217.265, Time=0.06 sec\n",
      " ARIMA(0,1,1)(0,0,0)[0] intercept   : AIC=3217.119, Time=0.07 sec\n",
      " ARIMA(0,1,0)(0,0,0)[0]             : AIC=3214.987, Time=0.02 sec\n",
      " ARIMA(1,1,2)(0,0,0)[0] intercept   : AIC=3212.443, Time=0.20 sec\n",
      " ARIMA(0,1,2)(0,0,0)[0] intercept   : AIC=3210.815, Time=0.10 sec\n",
      " ARIMA(0,1,3)(0,0,0)[0] intercept   : AIC=3212.109, Time=0.12 sec\n",
      " ARIMA(1,1,1)(0,0,0)[0] intercept   : AIC=3215.265, Time=0.19 sec\n",
      " ARIMA(1,1,3)(0,0,0)[0] intercept   : AIC=3213.106, Time=0.34 sec\n",
      " ARIMA(0,1,2)(0,0,0)[0]             : AIC=3209.928, Time=0.06 sec\n",
      " ARIMA(0,1,1)(0,0,0)[0]             : AIC=3216.065, Time=0.03 sec\n",
      " ARIMA(1,1,2)(0,0,0)[0]             : AIC=3211.538, Time=0.12 sec\n",
      " ARIMA(0,1,3)(0,0,0)[0]             : AIC=3211.177, Time=0.07 sec\n",
      " ARIMA(1,1,1)(0,0,0)[0]             : AIC=3214.204, Time=0.09 sec\n",
      " ARIMA(1,1,3)(0,0,0)[0]             : AIC=3212.086, Time=0.29 sec\n",
      "\n",
      "Best model:  ARIMA(0,1,2)(0,0,0)[0]          \n",
      "Total fit time: 2.166 seconds\n",
      "{'Company': 24, 'Buy Date': '2018-08-31', 'Forecasted Price': 82.20536256095743, 'Nominal Return (%)': -0.06075960380221381, 'Inflation Adjusted Return (%)': -0.7407596038022138, 'Investment Evaluation': 'Bad'}\n"
     ]
    }
   ],
   "source": [
    "result = investment_evaluation(2, \"2018-8-31\", 78, data)\n",
    "print(result)"
   ]
  },
  {
   "cell_type": "code",
   "execution_count": 40,
   "id": "5848c50f",
   "metadata": {},
   "outputs": [
    {
     "name": "stdout",
     "output_type": "stream",
     "text": [
      "Performing stepwise search to minimize aic\n",
      " ARIMA(2,1,2)(0,0,0)[0] intercept   : AIC=1401.135, Time=0.54 sec\n",
      " ARIMA(0,1,0)(0,0,0)[0] intercept   : AIC=1406.631, Time=0.05 sec\n",
      " ARIMA(1,1,0)(0,0,0)[0] intercept   : AIC=1408.426, Time=0.05 sec\n",
      " ARIMA(0,1,1)(0,0,0)[0] intercept   : AIC=1408.444, Time=0.05 sec\n",
      " ARIMA(0,1,0)(0,0,0)[0]             : AIC=1406.977, Time=0.02 sec\n",
      " ARIMA(1,1,2)(0,0,0)[0] intercept   : AIC=1410.201, Time=0.18 sec\n",
      " ARIMA(2,1,1)(0,0,0)[0] intercept   : AIC=1410.363, Time=0.19 sec\n",
      " ARIMA(3,1,2)(0,0,0)[0] intercept   : AIC=1408.994, Time=0.73 sec\n",
      " ARIMA(2,1,3)(0,0,0)[0] intercept   : AIC=1409.102, Time=0.75 sec\n",
      " ARIMA(1,1,1)(0,0,0)[0] intercept   : AIC=1409.962, Time=0.17 sec\n",
      " ARIMA(1,1,3)(0,0,0)[0] intercept   : AIC=1409.371, Time=0.64 sec\n",
      " ARIMA(3,1,1)(0,0,0)[0] intercept   : AIC=1409.416, Time=0.66 sec\n",
      " ARIMA(3,1,3)(0,0,0)[0] intercept   : AIC=1404.597, Time=0.86 sec\n",
      " ARIMA(2,1,2)(0,0,0)[0]             : AIC=1401.358, Time=0.39 sec\n",
      "\n",
      "Best model:  ARIMA(2,1,2)(0,0,0)[0] intercept\n",
      "Total fit time: 5.276 seconds\n",
      "{'Company': 7, 'Buy Date': '2017-05-01', 'Forecasted Price': 14.894221269601484, 'Nominal Return (%)': -14.28777098757349, 'Inflation Adjusted Return (%)': -15.247770987573489, 'Investment Evaluation': 'Bad'}\n"
     ]
    }
   ],
   "source": [
    "result = investment_evaluation(7, \"2017-5-1\", 90, data)\n",
    "print(result)\n"
   ]
  },
  {
   "cell_type": "code",
   "execution_count": 41,
   "id": "3cab4455",
   "metadata": {},
   "outputs": [
    {
     "name": "stdout",
     "output_type": "stream",
     "text": [
      "Performing stepwise search to minimize aic\n",
      " ARIMA(2,1,2)(0,0,0)[0] intercept   : AIC=inf, Time=0.34 sec\n",
      " ARIMA(0,1,0)(0,0,0)[0] intercept   : AIC=247.586, Time=0.02 sec\n",
      " ARIMA(1,1,0)(0,0,0)[0] intercept   : AIC=249.301, Time=0.03 sec\n",
      " ARIMA(0,1,1)(0,0,0)[0] intercept   : AIC=249.288, Time=0.04 sec\n",
      " ARIMA(0,1,0)(0,0,0)[0]             : AIC=249.350, Time=0.01 sec\n",
      " ARIMA(1,1,1)(0,0,0)[0] intercept   : AIC=inf, Time=0.15 sec\n",
      "\n",
      "Best model:  ARIMA(0,1,0)(0,0,0)[0] intercept\n",
      "Total fit time: 0.603 seconds\n",
      "{'Company': 18, 'Buy Date': '2014-09-24', 'Forecasted Price': 42.63775294744418, 'Nominal Return (%)': 3.735872304655488, 'Inflation Adjusted Return (%)': 3.885872304655488, 'Investment Evaluation': 'Good'}\n"
     ]
    }
   ],
   "source": [
    "result = investment_evaluation(18, \"2014-9-24\", 30, data)\n",
    "print(result)"
   ]
  },
  {
   "cell_type": "code",
   "execution_count": 42,
   "id": "3ac833f4",
   "metadata": {},
   "outputs": [
    {
     "name": "stdout",
     "output_type": "stream",
     "text": [
      "Performing stepwise search to minimize aic\n",
      " ARIMA(2,1,2)(0,0,0)[0] intercept   : AIC=inf, Time=0.41 sec\n",
      " ARIMA(0,1,0)(0,0,0)[0] intercept   : AIC=801.393, Time=0.03 sec\n",
      " ARIMA(1,1,0)(0,0,0)[0] intercept   : AIC=801.243, Time=0.03 sec\n",
      " ARIMA(0,1,1)(0,0,0)[0] intercept   : AIC=801.348, Time=0.03 sec\n",
      " ARIMA(0,1,0)(0,0,0)[0]             : AIC=799.394, Time=0.01 sec\n",
      " ARIMA(1,1,1)(0,0,0)[0] intercept   : AIC=803.100, Time=0.08 sec\n",
      "\n",
      "Best model:  ARIMA(0,1,0)(0,0,0)[0]          \n",
      "Total fit time: 0.591 seconds\n",
      "{'Company': 27, 'Buy Date': '2015-06-29', 'Forecasted Price': 63.36894989, 'Nominal Return (%)': 0.0, 'Inflation Adjusted Return (%)': 0.5, 'Investment Evaluation': 'Bad'}\n"
     ]
    }
   ],
   "source": [
    "result = investment_evaluation(27, \"2015-6-29\", 30, data)\n",
    "print(result)"
   ]
  }
 ],
 "metadata": {
  "kernelspec": {
   "display_name": "Python 3 (ipykernel)",
   "language": "python",
   "name": "python3"
  },
  "language_info": {
   "codemirror_mode": {
    "name": "ipython",
    "version": 3
   },
   "file_extension": ".py",
   "mimetype": "text/x-python",
   "name": "python",
   "nbconvert_exporter": "python",
   "pygments_lexer": "ipython3",
   "version": "3.9.13"
  }
 },
 "nbformat": 4,
 "nbformat_minor": 5
}
